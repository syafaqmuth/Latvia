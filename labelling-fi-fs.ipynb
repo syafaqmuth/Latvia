{
 "cells": [
  {
   "cell_type": "markdown",
   "metadata": {
    "papermill": {
     "duration": 0.041595,
     "end_time": "2022-11-13T15:53:19.878625",
     "exception": false,
     "start_time": "2022-11-13T15:53:19.83703",
     "status": "completed"
    },
    "tags": []
   },
   "source": [
    "# Import Library"
   ]
  },
  {
   "cell_type": "code",
   "execution_count": 1,
   "metadata": {
    "execution": {
     "iopub.execute_input": "2022-11-20T08:11:29.736447Z",
     "iopub.status.busy": "2022-11-20T08:11:29.736020Z",
     "iopub.status.idle": "2022-11-20T08:11:29.742927Z",
     "shell.execute_reply": "2022-11-20T08:11:29.741706Z",
     "shell.execute_reply.started": "2022-11-20T08:11:29.736411Z"
    },
    "papermill": {
     "duration": 1.332102,
     "end_time": "2022-11-13T15:53:21.248032",
     "exception": false,
     "start_time": "2022-11-13T15:53:19.91593",
     "status": "completed"
    },
    "tags": []
   },
   "outputs": [],
   "source": [
    "import pandas as pd\n",
    "import numpy as np\n",
    "from datetime import date\n",
    "from datetime import datetime\n",
    "import ast\n",
    "\n",
    "import warnings\n",
    "warnings.filterwarnings('ignore')\n",
    "\n",
    "#visualization libraries\n",
    "import matplotlib\n",
    "import matplotlib.pyplot as plt\n",
    "import seaborn as sns\n",
    "\n",
    "from sklearn.model_selection import train_test_split\n",
    "\n",
    "pd.set_option('display.max_columns', 10000)"
   ]
  },
  {
   "cell_type": "markdown",
   "metadata": {
    "papermill": {
     "duration": 0.043993,
     "end_time": "2022-11-13T15:53:21.334019",
     "exception": false,
     "start_time": "2022-11-13T15:53:21.290026",
     "status": "completed"
    },
    "tags": []
   },
   "source": [
    "# Read Data"
   ]
  },
  {
   "cell_type": "code",
   "execution_count": 2,
   "metadata": {
    "execution": {
     "iopub.execute_input": "2022-11-20T08:11:34.984111Z",
     "iopub.status.busy": "2022-11-20T08:11:34.983649Z",
     "iopub.status.idle": "2022-11-20T08:12:27.117689Z",
     "shell.execute_reply": "2022-11-20T08:12:27.116345Z",
     "shell.execute_reply.started": "2022-11-20T08:11:34.984058Z"
    },
    "papermill": {
     "duration": 60.319361,
     "end_time": "2022-11-13T15:54:21.690965",
     "exception": false,
     "start_time": "2022-11-13T15:53:21.371604",
     "status": "completed"
    },
    "tags": []
   },
   "outputs": [
    {
     "ename": "FileNotFoundError",
     "evalue": "[Errno 2] No such file or directory: '../input/fashion-campus/transaction_new.csv'",
     "output_type": "error",
     "traceback": [
      "\u001b[0;31m---------------------------------------------------------------------------\u001b[0m",
      "\u001b[0;31mFileNotFoundError\u001b[0m                         Traceback (most recent call last)",
      "Input \u001b[0;32mIn [2]\u001b[0m, in \u001b[0;36m<cell line: 1>\u001b[0;34m()\u001b[0m\n\u001b[0;32m----> 1\u001b[0m transaction_new \u001b[38;5;241m=\u001b[39m \u001b[43mpd\u001b[49m\u001b[38;5;241;43m.\u001b[39;49m\u001b[43mread_csv\u001b[49m\u001b[43m(\u001b[49m\u001b[38;5;124;43m\"\u001b[39;49m\u001b[38;5;124;43m../input/fashion-campus/transaction_new.csv\u001b[39;49m\u001b[38;5;124;43m\"\u001b[39;49m\u001b[43m)\u001b[49m\n\u001b[1;32m      2\u001b[0m cust \u001b[38;5;241m=\u001b[39m pd\u001b[38;5;241m.\u001b[39mread_csv(\u001b[38;5;124m\"\u001b[39m\u001b[38;5;124m../input/fashion-campus/customer.csv\u001b[39m\u001b[38;5;124m\"\u001b[39m)\n\u001b[1;32m      3\u001b[0m products \u001b[38;5;241m=\u001b[39m pd\u001b[38;5;241m.\u001b[39mread_csv(\u001b[38;5;124m'\u001b[39m\u001b[38;5;124m../input/fashion-campus/product.csv\u001b[39m\u001b[38;5;124m'\u001b[39m, on_bad_lines\u001b[38;5;241m=\u001b[39m\u001b[38;5;124m'\u001b[39m\u001b[38;5;124mskip\u001b[39m\u001b[38;5;124m'\u001b[39m)\n",
      "File \u001b[0;32m/Library/Frameworks/Python.framework/Versions/3.10/lib/python3.10/site-packages/pandas/util/_decorators.py:211\u001b[0m, in \u001b[0;36mdeprecate_kwarg.<locals>._deprecate_kwarg.<locals>.wrapper\u001b[0;34m(*args, **kwargs)\u001b[0m\n\u001b[1;32m    209\u001b[0m     \u001b[38;5;28;01melse\u001b[39;00m:\n\u001b[1;32m    210\u001b[0m         kwargs[new_arg_name] \u001b[38;5;241m=\u001b[39m new_arg_value\n\u001b[0;32m--> 211\u001b[0m \u001b[38;5;28;01mreturn\u001b[39;00m \u001b[43mfunc\u001b[49m\u001b[43m(\u001b[49m\u001b[38;5;241;43m*\u001b[39;49m\u001b[43margs\u001b[49m\u001b[43m,\u001b[49m\u001b[43m \u001b[49m\u001b[38;5;241;43m*\u001b[39;49m\u001b[38;5;241;43m*\u001b[39;49m\u001b[43mkwargs\u001b[49m\u001b[43m)\u001b[49m\n",
      "File \u001b[0;32m/Library/Frameworks/Python.framework/Versions/3.10/lib/python3.10/site-packages/pandas/util/_decorators.py:317\u001b[0m, in \u001b[0;36mdeprecate_nonkeyword_arguments.<locals>.decorate.<locals>.wrapper\u001b[0;34m(*args, **kwargs)\u001b[0m\n\u001b[1;32m    311\u001b[0m \u001b[38;5;28;01mif\u001b[39;00m \u001b[38;5;28mlen\u001b[39m(args) \u001b[38;5;241m>\u001b[39m num_allow_args:\n\u001b[1;32m    312\u001b[0m     warnings\u001b[38;5;241m.\u001b[39mwarn(\n\u001b[1;32m    313\u001b[0m         msg\u001b[38;5;241m.\u001b[39mformat(arguments\u001b[38;5;241m=\u001b[39marguments),\n\u001b[1;32m    314\u001b[0m         \u001b[38;5;167;01mFutureWarning\u001b[39;00m,\n\u001b[1;32m    315\u001b[0m         stacklevel\u001b[38;5;241m=\u001b[39mfind_stack_level(inspect\u001b[38;5;241m.\u001b[39mcurrentframe()),\n\u001b[1;32m    316\u001b[0m     )\n\u001b[0;32m--> 317\u001b[0m \u001b[38;5;28;01mreturn\u001b[39;00m \u001b[43mfunc\u001b[49m\u001b[43m(\u001b[49m\u001b[38;5;241;43m*\u001b[39;49m\u001b[43margs\u001b[49m\u001b[43m,\u001b[49m\u001b[43m \u001b[49m\u001b[38;5;241;43m*\u001b[39;49m\u001b[38;5;241;43m*\u001b[39;49m\u001b[43mkwargs\u001b[49m\u001b[43m)\u001b[49m\n",
      "File \u001b[0;32m/Library/Frameworks/Python.framework/Versions/3.10/lib/python3.10/site-packages/pandas/io/parsers/readers.py:950\u001b[0m, in \u001b[0;36mread_csv\u001b[0;34m(filepath_or_buffer, sep, delimiter, header, names, index_col, usecols, squeeze, prefix, mangle_dupe_cols, dtype, engine, converters, true_values, false_values, skipinitialspace, skiprows, skipfooter, nrows, na_values, keep_default_na, na_filter, verbose, skip_blank_lines, parse_dates, infer_datetime_format, keep_date_col, date_parser, dayfirst, cache_dates, iterator, chunksize, compression, thousands, decimal, lineterminator, quotechar, quoting, doublequote, escapechar, comment, encoding, encoding_errors, dialect, error_bad_lines, warn_bad_lines, on_bad_lines, delim_whitespace, low_memory, memory_map, float_precision, storage_options)\u001b[0m\n\u001b[1;32m    935\u001b[0m kwds_defaults \u001b[38;5;241m=\u001b[39m _refine_defaults_read(\n\u001b[1;32m    936\u001b[0m     dialect,\n\u001b[1;32m    937\u001b[0m     delimiter,\n\u001b[0;32m   (...)\u001b[0m\n\u001b[1;32m    946\u001b[0m     defaults\u001b[38;5;241m=\u001b[39m{\u001b[38;5;124m\"\u001b[39m\u001b[38;5;124mdelimiter\u001b[39m\u001b[38;5;124m\"\u001b[39m: \u001b[38;5;124m\"\u001b[39m\u001b[38;5;124m,\u001b[39m\u001b[38;5;124m\"\u001b[39m},\n\u001b[1;32m    947\u001b[0m )\n\u001b[1;32m    948\u001b[0m kwds\u001b[38;5;241m.\u001b[39mupdate(kwds_defaults)\n\u001b[0;32m--> 950\u001b[0m \u001b[38;5;28;01mreturn\u001b[39;00m \u001b[43m_read\u001b[49m\u001b[43m(\u001b[49m\u001b[43mfilepath_or_buffer\u001b[49m\u001b[43m,\u001b[49m\u001b[43m \u001b[49m\u001b[43mkwds\u001b[49m\u001b[43m)\u001b[49m\n",
      "File \u001b[0;32m/Library/Frameworks/Python.framework/Versions/3.10/lib/python3.10/site-packages/pandas/io/parsers/readers.py:605\u001b[0m, in \u001b[0;36m_read\u001b[0;34m(filepath_or_buffer, kwds)\u001b[0m\n\u001b[1;32m    602\u001b[0m _validate_names(kwds\u001b[38;5;241m.\u001b[39mget(\u001b[38;5;124m\"\u001b[39m\u001b[38;5;124mnames\u001b[39m\u001b[38;5;124m\"\u001b[39m, \u001b[38;5;28;01mNone\u001b[39;00m))\n\u001b[1;32m    604\u001b[0m \u001b[38;5;66;03m# Create the parser.\u001b[39;00m\n\u001b[0;32m--> 605\u001b[0m parser \u001b[38;5;241m=\u001b[39m \u001b[43mTextFileReader\u001b[49m\u001b[43m(\u001b[49m\u001b[43mfilepath_or_buffer\u001b[49m\u001b[43m,\u001b[49m\u001b[43m \u001b[49m\u001b[38;5;241;43m*\u001b[39;49m\u001b[38;5;241;43m*\u001b[39;49m\u001b[43mkwds\u001b[49m\u001b[43m)\u001b[49m\n\u001b[1;32m    607\u001b[0m \u001b[38;5;28;01mif\u001b[39;00m chunksize \u001b[38;5;129;01mor\u001b[39;00m iterator:\n\u001b[1;32m    608\u001b[0m     \u001b[38;5;28;01mreturn\u001b[39;00m parser\n",
      "File \u001b[0;32m/Library/Frameworks/Python.framework/Versions/3.10/lib/python3.10/site-packages/pandas/io/parsers/readers.py:1442\u001b[0m, in \u001b[0;36mTextFileReader.__init__\u001b[0;34m(self, f, engine, **kwds)\u001b[0m\n\u001b[1;32m   1439\u001b[0m     \u001b[38;5;28mself\u001b[39m\u001b[38;5;241m.\u001b[39moptions[\u001b[38;5;124m\"\u001b[39m\u001b[38;5;124mhas_index_names\u001b[39m\u001b[38;5;124m\"\u001b[39m] \u001b[38;5;241m=\u001b[39m kwds[\u001b[38;5;124m\"\u001b[39m\u001b[38;5;124mhas_index_names\u001b[39m\u001b[38;5;124m\"\u001b[39m]\n\u001b[1;32m   1441\u001b[0m \u001b[38;5;28mself\u001b[39m\u001b[38;5;241m.\u001b[39mhandles: IOHandles \u001b[38;5;241m|\u001b[39m \u001b[38;5;28;01mNone\u001b[39;00m \u001b[38;5;241m=\u001b[39m \u001b[38;5;28;01mNone\u001b[39;00m\n\u001b[0;32m-> 1442\u001b[0m \u001b[38;5;28mself\u001b[39m\u001b[38;5;241m.\u001b[39m_engine \u001b[38;5;241m=\u001b[39m \u001b[38;5;28;43mself\u001b[39;49m\u001b[38;5;241;43m.\u001b[39;49m\u001b[43m_make_engine\u001b[49m\u001b[43m(\u001b[49m\u001b[43mf\u001b[49m\u001b[43m,\u001b[49m\u001b[43m \u001b[49m\u001b[38;5;28;43mself\u001b[39;49m\u001b[38;5;241;43m.\u001b[39;49m\u001b[43mengine\u001b[49m\u001b[43m)\u001b[49m\n",
      "File \u001b[0;32m/Library/Frameworks/Python.framework/Versions/3.10/lib/python3.10/site-packages/pandas/io/parsers/readers.py:1729\u001b[0m, in \u001b[0;36mTextFileReader._make_engine\u001b[0;34m(self, f, engine)\u001b[0m\n\u001b[1;32m   1727\u001b[0m     is_text \u001b[38;5;241m=\u001b[39m \u001b[38;5;28;01mFalse\u001b[39;00m\n\u001b[1;32m   1728\u001b[0m     mode \u001b[38;5;241m=\u001b[39m \u001b[38;5;124m\"\u001b[39m\u001b[38;5;124mrb\u001b[39m\u001b[38;5;124m\"\u001b[39m\n\u001b[0;32m-> 1729\u001b[0m \u001b[38;5;28mself\u001b[39m\u001b[38;5;241m.\u001b[39mhandles \u001b[38;5;241m=\u001b[39m \u001b[43mget_handle\u001b[49m\u001b[43m(\u001b[49m\n\u001b[1;32m   1730\u001b[0m \u001b[43m    \u001b[49m\u001b[43mf\u001b[49m\u001b[43m,\u001b[49m\n\u001b[1;32m   1731\u001b[0m \u001b[43m    \u001b[49m\u001b[43mmode\u001b[49m\u001b[43m,\u001b[49m\n\u001b[1;32m   1732\u001b[0m \u001b[43m    \u001b[49m\u001b[43mencoding\u001b[49m\u001b[38;5;241;43m=\u001b[39;49m\u001b[38;5;28;43mself\u001b[39;49m\u001b[38;5;241;43m.\u001b[39;49m\u001b[43moptions\u001b[49m\u001b[38;5;241;43m.\u001b[39;49m\u001b[43mget\u001b[49m\u001b[43m(\u001b[49m\u001b[38;5;124;43m\"\u001b[39;49m\u001b[38;5;124;43mencoding\u001b[39;49m\u001b[38;5;124;43m\"\u001b[39;49m\u001b[43m,\u001b[49m\u001b[43m \u001b[49m\u001b[38;5;28;43;01mNone\u001b[39;49;00m\u001b[43m)\u001b[49m\u001b[43m,\u001b[49m\n\u001b[1;32m   1733\u001b[0m \u001b[43m    \u001b[49m\u001b[43mcompression\u001b[49m\u001b[38;5;241;43m=\u001b[39;49m\u001b[38;5;28;43mself\u001b[39;49m\u001b[38;5;241;43m.\u001b[39;49m\u001b[43moptions\u001b[49m\u001b[38;5;241;43m.\u001b[39;49m\u001b[43mget\u001b[49m\u001b[43m(\u001b[49m\u001b[38;5;124;43m\"\u001b[39;49m\u001b[38;5;124;43mcompression\u001b[39;49m\u001b[38;5;124;43m\"\u001b[39;49m\u001b[43m,\u001b[49m\u001b[43m \u001b[49m\u001b[38;5;28;43;01mNone\u001b[39;49;00m\u001b[43m)\u001b[49m\u001b[43m,\u001b[49m\n\u001b[1;32m   1734\u001b[0m \u001b[43m    \u001b[49m\u001b[43mmemory_map\u001b[49m\u001b[38;5;241;43m=\u001b[39;49m\u001b[38;5;28;43mself\u001b[39;49m\u001b[38;5;241;43m.\u001b[39;49m\u001b[43moptions\u001b[49m\u001b[38;5;241;43m.\u001b[39;49m\u001b[43mget\u001b[49m\u001b[43m(\u001b[49m\u001b[38;5;124;43m\"\u001b[39;49m\u001b[38;5;124;43mmemory_map\u001b[39;49m\u001b[38;5;124;43m\"\u001b[39;49m\u001b[43m,\u001b[49m\u001b[43m \u001b[49m\u001b[38;5;28;43;01mFalse\u001b[39;49;00m\u001b[43m)\u001b[49m\u001b[43m,\u001b[49m\n\u001b[1;32m   1735\u001b[0m \u001b[43m    \u001b[49m\u001b[43mis_text\u001b[49m\u001b[38;5;241;43m=\u001b[39;49m\u001b[43mis_text\u001b[49m\u001b[43m,\u001b[49m\n\u001b[1;32m   1736\u001b[0m \u001b[43m    \u001b[49m\u001b[43merrors\u001b[49m\u001b[38;5;241;43m=\u001b[39;49m\u001b[38;5;28;43mself\u001b[39;49m\u001b[38;5;241;43m.\u001b[39;49m\u001b[43moptions\u001b[49m\u001b[38;5;241;43m.\u001b[39;49m\u001b[43mget\u001b[49m\u001b[43m(\u001b[49m\u001b[38;5;124;43m\"\u001b[39;49m\u001b[38;5;124;43mencoding_errors\u001b[39;49m\u001b[38;5;124;43m\"\u001b[39;49m\u001b[43m,\u001b[49m\u001b[43m \u001b[49m\u001b[38;5;124;43m\"\u001b[39;49m\u001b[38;5;124;43mstrict\u001b[39;49m\u001b[38;5;124;43m\"\u001b[39;49m\u001b[43m)\u001b[49m\u001b[43m,\u001b[49m\n\u001b[1;32m   1737\u001b[0m \u001b[43m    \u001b[49m\u001b[43mstorage_options\u001b[49m\u001b[38;5;241;43m=\u001b[39;49m\u001b[38;5;28;43mself\u001b[39;49m\u001b[38;5;241;43m.\u001b[39;49m\u001b[43moptions\u001b[49m\u001b[38;5;241;43m.\u001b[39;49m\u001b[43mget\u001b[49m\u001b[43m(\u001b[49m\u001b[38;5;124;43m\"\u001b[39;49m\u001b[38;5;124;43mstorage_options\u001b[39;49m\u001b[38;5;124;43m\"\u001b[39;49m\u001b[43m,\u001b[49m\u001b[43m \u001b[49m\u001b[38;5;28;43;01mNone\u001b[39;49;00m\u001b[43m)\u001b[49m\u001b[43m,\u001b[49m\n\u001b[1;32m   1738\u001b[0m \u001b[43m\u001b[49m\u001b[43m)\u001b[49m\n\u001b[1;32m   1739\u001b[0m \u001b[38;5;28;01massert\u001b[39;00m \u001b[38;5;28mself\u001b[39m\u001b[38;5;241m.\u001b[39mhandles \u001b[38;5;129;01mis\u001b[39;00m \u001b[38;5;129;01mnot\u001b[39;00m \u001b[38;5;28;01mNone\u001b[39;00m\n\u001b[1;32m   1740\u001b[0m f \u001b[38;5;241m=\u001b[39m \u001b[38;5;28mself\u001b[39m\u001b[38;5;241m.\u001b[39mhandles\u001b[38;5;241m.\u001b[39mhandle\n",
      "File \u001b[0;32m/Library/Frameworks/Python.framework/Versions/3.10/lib/python3.10/site-packages/pandas/io/common.py:857\u001b[0m, in \u001b[0;36mget_handle\u001b[0;34m(path_or_buf, mode, encoding, compression, memory_map, is_text, errors, storage_options)\u001b[0m\n\u001b[1;32m    852\u001b[0m \u001b[38;5;28;01melif\u001b[39;00m \u001b[38;5;28misinstance\u001b[39m(handle, \u001b[38;5;28mstr\u001b[39m):\n\u001b[1;32m    853\u001b[0m     \u001b[38;5;66;03m# Check whether the filename is to be opened in binary mode.\u001b[39;00m\n\u001b[1;32m    854\u001b[0m     \u001b[38;5;66;03m# Binary mode does not support 'encoding' and 'newline'.\u001b[39;00m\n\u001b[1;32m    855\u001b[0m     \u001b[38;5;28;01mif\u001b[39;00m ioargs\u001b[38;5;241m.\u001b[39mencoding \u001b[38;5;129;01mand\u001b[39;00m \u001b[38;5;124m\"\u001b[39m\u001b[38;5;124mb\u001b[39m\u001b[38;5;124m\"\u001b[39m \u001b[38;5;129;01mnot\u001b[39;00m \u001b[38;5;129;01min\u001b[39;00m ioargs\u001b[38;5;241m.\u001b[39mmode:\n\u001b[1;32m    856\u001b[0m         \u001b[38;5;66;03m# Encoding\u001b[39;00m\n\u001b[0;32m--> 857\u001b[0m         handle \u001b[38;5;241m=\u001b[39m \u001b[38;5;28;43mopen\u001b[39;49m\u001b[43m(\u001b[49m\n\u001b[1;32m    858\u001b[0m \u001b[43m            \u001b[49m\u001b[43mhandle\u001b[49m\u001b[43m,\u001b[49m\n\u001b[1;32m    859\u001b[0m \u001b[43m            \u001b[49m\u001b[43mioargs\u001b[49m\u001b[38;5;241;43m.\u001b[39;49m\u001b[43mmode\u001b[49m\u001b[43m,\u001b[49m\n\u001b[1;32m    860\u001b[0m \u001b[43m            \u001b[49m\u001b[43mencoding\u001b[49m\u001b[38;5;241;43m=\u001b[39;49m\u001b[43mioargs\u001b[49m\u001b[38;5;241;43m.\u001b[39;49m\u001b[43mencoding\u001b[49m\u001b[43m,\u001b[49m\n\u001b[1;32m    861\u001b[0m \u001b[43m            \u001b[49m\u001b[43merrors\u001b[49m\u001b[38;5;241;43m=\u001b[39;49m\u001b[43merrors\u001b[49m\u001b[43m,\u001b[49m\n\u001b[1;32m    862\u001b[0m \u001b[43m            \u001b[49m\u001b[43mnewline\u001b[49m\u001b[38;5;241;43m=\u001b[39;49m\u001b[38;5;124;43m\"\u001b[39;49m\u001b[38;5;124;43m\"\u001b[39;49m\u001b[43m,\u001b[49m\n\u001b[1;32m    863\u001b[0m \u001b[43m        \u001b[49m\u001b[43m)\u001b[49m\n\u001b[1;32m    864\u001b[0m     \u001b[38;5;28;01melse\u001b[39;00m:\n\u001b[1;32m    865\u001b[0m         \u001b[38;5;66;03m# Binary mode\u001b[39;00m\n\u001b[1;32m    866\u001b[0m         handle \u001b[38;5;241m=\u001b[39m \u001b[38;5;28mopen\u001b[39m(handle, ioargs\u001b[38;5;241m.\u001b[39mmode)\n",
      "\u001b[0;31mFileNotFoundError\u001b[0m: [Errno 2] No such file or directory: '../input/fashion-campus/transaction_new.csv'"
     ]
    }
   ],
   "source": [
    "transaction_new = pd.read_csv(\"../input/fashion-campus/transaction_new.csv\")\n",
    "cust = pd.read_csv(\"../input/fashion-campus/customer.csv\")\n",
    "products = pd.read_csv('../input/fashion-campus/product.csv', on_bad_lines='skip')\n",
    "click_new = pd.read_csv('../input/fashion-campus/click_stream_new.csv')"
   ]
  },
  {
   "cell_type": "code",
   "execution_count": null,
   "metadata": {
    "execution": {
     "iopub.execute_input": "2022-11-20T08:12:34.318267Z",
     "iopub.status.busy": "2022-11-20T08:12:34.317746Z",
     "iopub.status.idle": "2022-11-20T08:12:34.344687Z",
     "shell.execute_reply": "2022-11-20T08:12:34.343144Z",
     "shell.execute_reply.started": "2022-11-20T08:12:34.318173Z"
    }
   },
   "outputs": [],
   "source": [
    "products"
   ]
  },
  {
   "cell_type": "code",
   "execution_count": null,
   "metadata": {
    "execution": {
     "iopub.execute_input": "2022-11-20T08:12:39.468403Z",
     "iopub.status.busy": "2022-11-20T08:12:39.467945Z",
     "iopub.status.idle": "2022-11-20T08:12:39.500647Z",
     "shell.execute_reply": "2022-11-20T08:12:39.499428Z",
     "shell.execute_reply.started": "2022-11-20T08:12:39.468364Z"
    }
   },
   "outputs": [],
   "source": [
    "transaction_new"
   ]
  },
  {
   "cell_type": "code",
   "execution_count": null,
   "metadata": {
    "execution": {
     "iopub.execute_input": "2022-11-20T08:12:47.433193Z",
     "iopub.status.busy": "2022-11-20T08:12:47.432384Z",
     "iopub.status.idle": "2022-11-20T08:12:48.622456Z",
     "shell.execute_reply": "2022-11-20T08:12:48.621181Z",
     "shell.execute_reply.started": "2022-11-20T08:12:47.433138Z"
    }
   },
   "outputs": [],
   "source": [
    "pd.merge(transaction_new, products[['id', 'articleType']], left_on='product_id', right_on=\"id\", how='left')"
   ]
  },
  {
   "cell_type": "markdown",
   "metadata": {
    "papermill": {
     "duration": 0.039213,
     "end_time": "2022-11-13T15:54:21.76909",
     "exception": false,
     "start_time": "2022-11-13T15:54:21.729877",
     "status": "completed"
    },
    "tags": []
   },
   "source": [
    "# Labelling"
   ]
  },
  {
   "cell_type": "code",
   "execution_count": null,
   "metadata": {
    "execution": {
     "iopub.execute_input": "2022-11-20T08:12:53.034606Z",
     "iopub.status.busy": "2022-11-20T08:12:53.033785Z",
     "iopub.status.idle": "2022-11-20T08:12:53.305239Z",
     "shell.execute_reply": "2022-11-20T08:12:53.304012Z",
     "shell.execute_reply.started": "2022-11-20T08:12:53.034558Z"
    },
    "papermill": {
     "duration": 0.323115,
     "end_time": "2022-11-13T15:54:22.129452",
     "exception": false,
     "start_time": "2022-11-13T15:54:21.806337",
     "status": "completed"
    },
    "tags": []
   },
   "outputs": [],
   "source": [
    "trx2 = transaction_new[transaction_new[\"payment_status\"] == \"Success\"]\n",
    "trx2.head()"
   ]
  },
  {
   "cell_type": "code",
   "execution_count": null,
   "metadata": {
    "execution": {
     "iopub.execute_input": "2022-11-20T08:12:58.475660Z",
     "iopub.status.busy": "2022-11-20T08:12:58.475203Z",
     "iopub.status.idle": "2022-11-20T08:12:58.800514Z",
     "shell.execute_reply": "2022-11-20T08:12:58.799138Z",
     "shell.execute_reply.started": "2022-11-20T08:12:58.475618Z"
    },
    "papermill": {
     "duration": 0.343343,
     "end_time": "2022-11-13T15:54:22.512123",
     "exception": false,
     "start_time": "2022-11-13T15:54:22.16878",
     "status": "completed"
    },
    "tags": []
   },
   "outputs": [],
   "source": [
    "cust_trx= pd.merge(cust[[\"customer_id\",\"first_join_date\"]],trx2[[\"customer_id\",\"created_at\"]], on = \"customer_id\", how = \"left\")\n",
    "cust_trx"
   ]
  },
  {
   "cell_type": "code",
   "execution_count": null,
   "metadata": {
    "execution": {
     "iopub.execute_input": "2022-11-20T08:13:02.678805Z",
     "iopub.status.busy": "2022-11-20T08:13:02.677607Z",
     "iopub.status.idle": "2022-11-20T08:13:03.917755Z",
     "shell.execute_reply": "2022-11-20T08:13:03.916753Z",
     "shell.execute_reply.started": "2022-11-20T08:13:02.678761Z"
    },
    "papermill": {
     "duration": 1.215153,
     "end_time": "2022-11-13T15:54:23.765508",
     "exception": false,
     "start_time": "2022-11-13T15:54:22.550355",
     "status": "completed"
    },
    "tags": []
   },
   "outputs": [],
   "source": [
    "cust_trx[\"created_at\"] = pd.to_datetime(cust_trx[\"created_at\"])\n",
    "cust_trx[\"first_join_date\"] = pd.to_datetime(cust_trx[\"first_join_date\"])"
   ]
  },
  {
   "cell_type": "code",
   "execution_count": null,
   "metadata": {
    "execution": {
     "iopub.execute_input": "2022-11-20T08:13:05.720909Z",
     "iopub.status.busy": "2022-11-20T08:13:05.720491Z",
     "iopub.status.idle": "2022-11-20T08:13:05.737303Z",
     "shell.execute_reply": "2022-11-20T08:13:05.735715Z",
     "shell.execute_reply.started": "2022-11-20T08:13:05.720876Z"
    },
    "papermill": {
     "duration": 0.057303,
     "end_time": "2022-11-13T15:54:23.861961",
     "exception": false,
     "start_time": "2022-11-13T15:54:23.804658",
     "status": "completed"
    },
    "tags": []
   },
   "outputs": [],
   "source": [
    "cust_trx"
   ]
  },
  {
   "cell_type": "code",
   "execution_count": null,
   "metadata": {
    "execution": {
     "iopub.execute_input": "2022-11-20T08:13:10.020376Z",
     "iopub.status.busy": "2022-11-20T08:13:10.019912Z",
     "iopub.status.idle": "2022-11-20T08:13:22.544906Z",
     "shell.execute_reply": "2022-11-20T08:13:22.543517Z",
     "shell.execute_reply.started": "2022-11-20T08:13:10.020335Z"
    },
    "papermill": {
     "duration": 12.988115,
     "end_time": "2022-11-13T15:54:36.888657",
     "exception": false,
     "start_time": "2022-11-13T15:54:23.900542",
     "status": "completed"
    },
    "tags": []
   },
   "outputs": [],
   "source": [
    "cust_trx['created_at'] = cust_trx['created_at'].dt.strftime('%Y-%m')\n",
    "cust_trx['first_join_date'] = cust_trx['first_join_date'].dt.strftime('%Y-%m')"
   ]
  },
  {
   "cell_type": "code",
   "execution_count": null,
   "metadata": {
    "execution": {
     "iopub.execute_input": "2022-11-20T08:13:31.601152Z",
     "iopub.status.busy": "2022-11-20T08:13:31.600677Z",
     "iopub.status.idle": "2022-11-20T08:13:31.616146Z",
     "shell.execute_reply": "2022-11-20T08:13:31.614814Z",
     "shell.execute_reply.started": "2022-11-20T08:13:31.601117Z"
    },
    "papermill": {
     "duration": 0.056885,
     "end_time": "2022-11-13T15:54:36.984568",
     "exception": false,
     "start_time": "2022-11-13T15:54:36.927683",
     "status": "completed"
    },
    "tags": []
   },
   "outputs": [],
   "source": [
    "cust_trx"
   ]
  },
  {
   "cell_type": "markdown",
   "metadata": {
    "papermill": {
     "duration": 0.038296,
     "end_time": "2022-11-13T15:54:37.061512",
     "exception": false,
     "start_time": "2022-11-13T15:54:37.023216",
     "status": "completed"
    },
    "tags": []
   },
   "source": [
    "## Cust nvr trx"
   ]
  },
  {
   "cell_type": "code",
   "execution_count": null,
   "metadata": {
    "execution": {
     "iopub.execute_input": "2022-11-20T08:13:38.485245Z",
     "iopub.status.busy": "2022-11-20T08:13:38.484578Z",
     "iopub.status.idle": "2022-11-20T08:13:38.644561Z",
     "shell.execute_reply": "2022-11-20T08:13:38.643731Z",
     "shell.execute_reply.started": "2022-11-20T08:13:38.485207Z"
    },
    "papermill": {
     "duration": 0.189285,
     "end_time": "2022-11-13T15:54:37.28904",
     "exception": false,
     "start_time": "2022-11-13T15:54:37.099755",
     "status": "completed"
    },
    "tags": []
   },
   "outputs": [],
   "source": [
    "cust_nvr_trx = cust_trx[cust_trx[\"created_at\"].isna()]\n",
    "cust_nvr_trx.shape"
   ]
  },
  {
   "cell_type": "markdown",
   "metadata": {
    "papermill": {
     "duration": 0.038144,
     "end_time": "2022-11-13T15:54:37.366224",
     "exception": false,
     "start_time": "2022-11-13T15:54:37.32808",
     "status": "completed"
    },
    "tags": []
   },
   "source": [
    "sebanyak 49.758 (unique) customer tidak pernah transaksi sukses, sisanya yakni 50.242 customer (unique) pernah transaksi sukses"
   ]
  },
  {
   "cell_type": "markdown",
   "metadata": {
    "papermill": {
     "duration": 0.037872,
     "end_time": "2022-11-13T15:54:37.44224",
     "exception": false,
     "start_time": "2022-11-13T15:54:37.404368",
     "status": "completed"
    },
    "tags": []
   },
   "source": [
    "## Cust trx"
   ]
  },
  {
   "cell_type": "code",
   "execution_count": null,
   "metadata": {
    "execution": {
     "iopub.execute_input": "2022-11-20T08:13:44.485606Z",
     "iopub.status.busy": "2022-11-20T08:13:44.484647Z",
     "iopub.status.idle": "2022-11-20T08:13:44.603503Z",
     "shell.execute_reply": "2022-11-20T08:13:44.602260Z",
     "shell.execute_reply.started": "2022-11-20T08:13:44.485542Z"
    },
    "papermill": {
     "duration": 0.156051,
     "end_time": "2022-11-13T15:54:37.636533",
     "exception": false,
     "start_time": "2022-11-13T15:54:37.480482",
     "status": "completed"
    },
    "tags": []
   },
   "outputs": [],
   "source": [
    "cust_trx2 = cust_trx[~cust_trx[\"created_at\"].isna()]\n",
    "cust_trx2.shape"
   ]
  },
  {
   "cell_type": "code",
   "execution_count": null,
   "metadata": {
    "execution": {
     "iopub.execute_input": "2022-11-20T08:13:47.629489Z",
     "iopub.status.busy": "2022-11-20T08:13:47.628750Z",
     "iopub.status.idle": "2022-11-20T08:13:47.642525Z",
     "shell.execute_reply": "2022-11-20T08:13:47.641136Z",
     "shell.execute_reply.started": "2022-11-20T08:13:47.629447Z"
    },
    "papermill": {
     "duration": 0.055002,
     "end_time": "2022-11-13T15:54:37.730056",
     "exception": false,
     "start_time": "2022-11-13T15:54:37.675054",
     "status": "completed"
    },
    "tags": []
   },
   "outputs": [],
   "source": [
    "cust_trx2"
   ]
  },
  {
   "cell_type": "code",
   "execution_count": null,
   "metadata": {
    "execution": {
     "iopub.execute_input": "2022-11-20T08:13:51.298879Z",
     "iopub.status.busy": "2022-11-20T08:13:51.297711Z",
     "iopub.status.idle": "2022-11-20T08:13:51.769330Z",
     "shell.execute_reply": "2022-11-20T08:13:51.768241Z",
     "shell.execute_reply.started": "2022-11-20T08:13:51.298829Z"
    },
    "papermill": {
     "duration": 0.471624,
     "end_time": "2022-11-13T15:54:38.240429",
     "exception": false,
     "start_time": "2022-11-13T15:54:37.768805",
     "status": "completed"
    },
    "tags": []
   },
   "outputs": [],
   "source": [
    "# groupkan berdasarkan customer_id dan created_at\n",
    "cust_trx4 = cust_trx2.groupby([\"customer_id\",\"created_at\"])['first_join_date'].first().reset_index()"
   ]
  },
  {
   "cell_type": "code",
   "execution_count": null,
   "metadata": {
    "execution": {
     "iopub.execute_input": "2022-11-20T08:13:54.445649Z",
     "iopub.status.busy": "2022-11-20T08:13:54.445223Z",
     "iopub.status.idle": "2022-11-20T08:13:54.460344Z",
     "shell.execute_reply": "2022-11-20T08:13:54.459109Z",
     "shell.execute_reply.started": "2022-11-20T08:13:54.445615Z"
    },
    "papermill": {
     "duration": 0.057554,
     "end_time": "2022-11-13T15:54:38.336876",
     "exception": false,
     "start_time": "2022-11-13T15:54:38.279322",
     "status": "completed"
    },
    "tags": []
   },
   "outputs": [],
   "source": [
    "cust_trx4"
   ]
  },
  {
   "cell_type": "code",
   "execution_count": null,
   "metadata": {
    "execution": {
     "iopub.execute_input": "2022-11-20T08:13:58.242041Z",
     "iopub.status.busy": "2022-11-20T08:13:58.241019Z",
     "iopub.status.idle": "2022-11-20T08:13:58.319033Z",
     "shell.execute_reply": "2022-11-20T08:13:58.318149Z",
     "shell.execute_reply.started": "2022-11-20T08:13:58.241988Z"
    },
    "papermill": {
     "duration": 0.120739,
     "end_time": "2022-11-13T15:54:38.496679",
     "exception": false,
     "start_time": "2022-11-13T15:54:38.37594",
     "status": "completed"
    },
    "tags": []
   },
   "outputs": [],
   "source": [
    "cust_trx4[\"created_at\"] = pd.to_datetime(cust_trx4[\"created_at\"])"
   ]
  },
  {
   "cell_type": "code",
   "execution_count": null,
   "metadata": {
    "execution": {
     "iopub.execute_input": "2022-11-20T08:14:01.263186Z",
     "iopub.status.busy": "2022-11-20T08:14:01.262323Z",
     "iopub.status.idle": "2022-11-20T08:15:44.650760Z",
     "shell.execute_reply": "2022-11-20T08:15:44.649380Z",
     "shell.execute_reply.started": "2022-11-20T08:14:01.263136Z"
    },
    "papermill": {
     "duration": 103.624163,
     "end_time": "2022-11-13T15:56:22.160067",
     "exception": false,
     "start_time": "2022-11-13T15:54:38.535904",
     "status": "completed"
    },
    "tags": []
   },
   "outputs": [],
   "source": [
    "size = cust_trx4.shape[0]\n",
    "#temp = pd.DataFrame(columns=['A'])\n",
    "a = []\n",
    "for i in range (size-1) :\n",
    "    # jika nilai pada baris ke i di kolom ke 0 == nilai pada baris selanjutnya kolom ke 0 (merupakan cust yg sama)\n",
    "    if cust_trx4.iloc[i,0] == cust_trx4.iloc[i+1,0] :\n",
    "        # maka (created_at pada bulan next - created_at pd bulan before) dibagi 1 bulan\n",
    "        # ini untuk mencari jarak bulan transaksi sukses selanjutnya\n",
    "        a.append((cust_trx4.iloc[i+1,1] - cust_trx4.iloc[i,1])/np.timedelta64(1,'M'))\n",
    "    # jika nilai pada baris ke i di kolom ke 0 != nilai pada baris selanjutnya kolom ke 0 (merupakan cust yg berbeda)\n",
    "    else :\n",
    "        # maka (created_at pada bulan now - created_at pd bulan now) dibagi 1 bulan\n",
    "        # alias hasilnya 0, alias itu transaksi terakhir si cust tsb, atau bisa jd dia cuma transaksi sekali\n",
    "        a.append((cust_trx4.iloc[i,1] - cust_trx4.iloc[i,1])/np.timedelta64(1,'M'))"
   ]
  },
  {
   "cell_type": "code",
   "execution_count": null,
   "metadata": {
    "execution": {
     "iopub.execute_input": "2022-11-20T08:15:49.461843Z",
     "iopub.status.busy": "2022-11-20T08:15:49.461387Z",
     "iopub.status.idle": "2022-11-20T08:15:49.538608Z",
     "shell.execute_reply": "2022-11-20T08:15:49.537495Z",
     "shell.execute_reply.started": "2022-11-20T08:15:49.461781Z"
    },
    "papermill": {
     "duration": 0.114332,
     "end_time": "2022-11-13T15:56:22.314622",
     "exception": false,
     "start_time": "2022-11-13T15:56:22.20029",
     "status": "completed"
    },
    "tags": []
   },
   "outputs": [],
   "source": [
    "diff = pd.DataFrame(a, columns = [\"diff\"])\n",
    "diff = round(diff)\n",
    "diff.head()"
   ]
  },
  {
   "cell_type": "code",
   "execution_count": null,
   "metadata": {
    "execution": {
     "iopub.execute_input": "2022-11-20T08:16:03.605338Z",
     "iopub.status.busy": "2022-11-20T08:16:03.604881Z",
     "iopub.status.idle": "2022-11-20T08:16:03.666113Z",
     "shell.execute_reply": "2022-11-20T08:16:03.664594Z",
     "shell.execute_reply.started": "2022-11-20T08:16:03.605298Z"
    },
    "papermill": {
     "duration": 0.091777,
     "end_time": "2022-11-13T15:56:22.445326",
     "exception": false,
     "start_time": "2022-11-13T15:56:22.353549",
     "status": "completed"
    },
    "tags": []
   },
   "outputs": [],
   "source": [
    "# langsung aja concat kalo emang jumlah rowsnya sama dan yakin dia emang seharusnya ada di row itu\n",
    "\n",
    "cust_trx5 = pd.concat([cust_trx4, diff], axis=1)\n",
    "cust_trx5[\"diff\"] = cust_trx5[\"diff\"].fillna(0)\n",
    "cust_trx5"
   ]
  },
  {
   "cell_type": "markdown",
   "metadata": {
    "papermill": {
     "duration": 0.038669,
     "end_time": "2022-11-13T15:56:22.523091",
     "exception": false,
     "start_time": "2022-11-13T15:56:22.484422",
     "status": "completed"
    },
    "tags": []
   },
   "source": [
    "disini, 1 berati jarak antara transaksi bulan sekarang dengan transaksi selanjutnya, berjarak 1 bulan. kalo 0 berati dah gada transaksi lagi (ga dipake), kalo 2,3dst berati ya jarak antara transaksi bulan ini dgn transaksi selanjutnya berjarak sesuai angka itu (churn)"
   ]
  },
  {
   "cell_type": "code",
   "execution_count": null,
   "metadata": {
    "execution": {
     "iopub.execute_input": "2022-11-20T08:16:08.143127Z",
     "iopub.status.busy": "2022-11-20T08:16:08.142691Z",
     "iopub.status.idle": "2022-11-20T08:16:18.005114Z",
     "shell.execute_reply": "2022-11-20T08:16:18.003904Z",
     "shell.execute_reply.started": "2022-11-20T08:16:08.143091Z"
    },
    "papermill": {
     "duration": 9.520324,
     "end_time": "2022-11-13T15:56:32.081831",
     "exception": false,
     "start_time": "2022-11-13T15:56:22.561507",
     "status": "completed"
    },
    "tags": []
   },
   "outputs": [],
   "source": [
    "def renovated(df) : \n",
    "    if df[\"diff\"] == 1 : \n",
    "        return 0\n",
    "    elif df[\"diff\"] == 0 :\n",
    "        return 2\n",
    "    else :\n",
    "        return 1\n",
    "\n",
    "    \n",
    "cust_trx5[\"flagging\"] = cust_trx5.apply(renovated, axis =1 )"
   ]
  },
  {
   "cell_type": "markdown",
   "metadata": {
    "papermill": {
     "duration": 0.038739,
     "end_time": "2022-11-13T15:56:32.16205",
     "exception": false,
     "start_time": "2022-11-13T15:56:32.123311",
     "status": "completed"
    },
    "tags": []
   },
   "source": [
    "disni berati, ketika jarak transaksi sekarang dgn selanjutnya adalah 1 bulan, dia akan dilabeli 0, maka dia terhitung transaksi rutin. kalo jaraknya 0 bulan, dia akan dilabeli 2, dan ketika jarak ke transaksi selanjutnya adalah di atas 1 bulan, dia akan dilabeli 1 (churn)"
   ]
  },
  {
   "cell_type": "code",
   "execution_count": null,
   "metadata": {
    "execution": {
     "iopub.execute_input": "2022-11-20T08:16:21.778595Z",
     "iopub.status.busy": "2022-11-20T08:16:21.778193Z",
     "iopub.status.idle": "2022-11-20T08:16:21.796246Z",
     "shell.execute_reply": "2022-11-20T08:16:21.794988Z",
     "shell.execute_reply.started": "2022-11-20T08:16:21.778562Z"
    },
    "papermill": {
     "duration": 0.058031,
     "end_time": "2022-11-13T15:56:32.259987",
     "exception": false,
     "start_time": "2022-11-13T15:56:32.201956",
     "status": "completed"
    },
    "tags": []
   },
   "outputs": [],
   "source": [
    "cust_trx5"
   ]
  },
  {
   "cell_type": "code",
   "execution_count": null,
   "metadata": {
    "execution": {
     "iopub.execute_input": "2022-11-20T08:16:25.446219Z",
     "iopub.status.busy": "2022-11-20T08:16:25.445759Z",
     "iopub.status.idle": "2022-11-20T08:16:25.535534Z",
     "shell.execute_reply": "2022-11-20T08:16:25.534172Z",
     "shell.execute_reply.started": "2022-11-20T08:16:25.446172Z"
    },
    "papermill": {
     "duration": 0.121962,
     "end_time": "2022-11-13T15:56:32.421163",
     "exception": false,
     "start_time": "2022-11-13T15:56:32.299201",
     "status": "completed"
    },
    "tags": []
   },
   "outputs": [],
   "source": [
    "final_flagging = cust_trx5[cust_trx5[\"flagging\"] <= 1].drop(columns=['diff'])\n",
    "final_flagging"
   ]
  },
  {
   "cell_type": "markdown",
   "metadata": {
    "papermill": {
     "duration": 0.039697,
     "end_time": "2022-11-13T15:56:32.501429",
     "exception": false,
     "start_time": "2022-11-13T15:56:32.461732",
     "status": "completed"
    },
    "tags": []
   },
   "source": [
    "nah disini, yang label 2 di drop, yang mana jika cust tsb cuma trans sekali selama ini atau itu adalah transaksi terakhirnya, maka dia tidak akan diikutkan ke dalam pembuatan untuk feature"
   ]
  },
  {
   "cell_type": "code",
   "execution_count": null,
   "metadata": {
    "execution": {
     "iopub.execute_input": "2022-11-20T08:16:29.652596Z",
     "iopub.status.busy": "2022-11-20T08:16:29.651702Z",
     "iopub.status.idle": "2022-11-20T08:16:29.670851Z",
     "shell.execute_reply": "2022-11-20T08:16:29.669464Z",
     "shell.execute_reply.started": "2022-11-20T08:16:29.652543Z"
    },
    "papermill": {
     "duration": 0.058141,
     "end_time": "2022-11-13T15:56:32.599216",
     "exception": false,
     "start_time": "2022-11-13T15:56:32.541075",
     "status": "completed"
    },
    "tags": []
   },
   "outputs": [],
   "source": [
    "final_flagging[\"flagging\"].value_counts(normalize = True)"
   ]
  },
  {
   "cell_type": "markdown",
   "metadata": {
    "papermill": {
     "duration": 0.039842,
     "end_time": "2022-11-13T15:56:32.679041",
     "exception": false,
     "start_time": "2022-11-13T15:56:32.639199",
     "status": "completed"
    },
    "tags": []
   },
   "source": [
    "- 1 adalah nasabah churn\n",
    "- 0 adalah nasabah yang trx rutin"
   ]
  },
  {
   "cell_type": "markdown",
   "metadata": {
    "papermill": {
     "duration": 0.040203,
     "end_time": "2022-11-13T15:56:32.75981",
     "exception": false,
     "start_time": "2022-11-13T15:56:32.719607",
     "status": "completed"
    },
    "tags": []
   },
   "source": [
    "# Feature Engineering\n",
    "\n",
    "feature engineering adalah proses untuk **menghasilkan/membuat feature** untuk modeling"
   ]
  },
  {
   "cell_type": "markdown",
   "metadata": {},
   "source": [
    "## Transaction"
   ]
  },
  {
   "cell_type": "code",
   "execution_count": null,
   "metadata": {
    "execution": {
     "iopub.execute_input": "2022-11-20T08:16:34.617566Z",
     "iopub.status.busy": "2022-11-20T08:16:34.617156Z",
     "iopub.status.idle": "2022-11-20T08:16:34.648105Z",
     "shell.execute_reply": "2022-11-20T08:16:34.646800Z",
     "shell.execute_reply.started": "2022-11-20T08:16:34.617533Z"
    }
   },
   "outputs": [],
   "source": [
    "transaction_new"
   ]
  },
  {
   "cell_type": "code",
   "execution_count": null,
   "metadata": {
    "execution": {
     "iopub.execute_input": "2022-11-20T08:16:39.370419Z",
     "iopub.status.busy": "2022-11-20T08:16:39.369943Z",
     "iopub.status.idle": "2022-11-20T08:16:39.382543Z",
     "shell.execute_reply": "2022-11-20T08:16:39.381001Z",
     "shell.execute_reply.started": "2022-11-20T08:16:39.370378Z"
    }
   },
   "outputs": [],
   "source": [
    "transaction_new.dtypes"
   ]
  },
  {
   "cell_type": "code",
   "execution_count": null,
   "metadata": {
    "execution": {
     "iopub.execute_input": "2022-11-20T08:16:43.033889Z",
     "iopub.status.busy": "2022-11-20T08:16:43.033440Z",
     "iopub.status.idle": "2022-11-20T08:16:51.254166Z",
     "shell.execute_reply": "2022-11-20T08:16:51.252747Z",
     "shell.execute_reply.started": "2022-11-20T08:16:43.033849Z"
    }
   },
   "outputs": [],
   "source": [
    "transaction_new[\"created_at\"] = pd.to_datetime(transaction_new[\"created_at\"], errors='coerce')\n",
    "transaction_new[\"created_at\"] = transaction_new[\"created_at\"].dt.strftime('%Y-%m')"
   ]
  },
  {
   "cell_type": "code",
   "execution_count": null,
   "metadata": {
    "execution": {
     "iopub.execute_input": "2022-11-20T08:16:53.387328Z",
     "iopub.status.busy": "2022-11-20T08:16:53.386561Z",
     "iopub.status.idle": "2022-11-20T08:16:53.640893Z",
     "shell.execute_reply": "2022-11-20T08:16:53.639349Z",
     "shell.execute_reply.started": "2022-11-20T08:16:53.387286Z"
    }
   },
   "outputs": [],
   "source": [
    "transaction_new[\"created_at\"] = pd.to_datetime(transaction_new[\"created_at\"], errors='coerce')"
   ]
  },
  {
   "cell_type": "code",
   "execution_count": null,
   "metadata": {
    "execution": {
     "iopub.execute_input": "2022-11-20T08:16:56.122423Z",
     "iopub.status.busy": "2022-11-20T08:16:56.121989Z",
     "iopub.status.idle": "2022-11-20T08:16:56.130911Z",
     "shell.execute_reply": "2022-11-20T08:16:56.129927Z",
     "shell.execute_reply.started": "2022-11-20T08:16:56.122388Z"
    }
   },
   "outputs": [],
   "source": [
    "transaction_new.dtypes"
   ]
  },
  {
   "cell_type": "code",
   "execution_count": null,
   "metadata": {
    "execution": {
     "iopub.execute_input": "2022-11-20T08:16:59.526534Z",
     "iopub.status.busy": "2022-11-20T08:16:59.526059Z",
     "iopub.status.idle": "2022-11-20T08:16:59.635496Z",
     "shell.execute_reply": "2022-11-20T08:16:59.634081Z",
     "shell.execute_reply.started": "2022-11-20T08:16:59.526495Z"
    }
   },
   "outputs": [],
   "source": [
    "transaction_new[\"promo_code\"]=transaction_new[\"promo_code\"].fillna(0)"
   ]
  },
  {
   "cell_type": "code",
   "execution_count": null,
   "metadata": {
    "execution": {
     "iopub.execute_input": "2022-11-20T08:17:03.349935Z",
     "iopub.status.busy": "2022-11-20T08:17:03.349502Z",
     "iopub.status.idle": "2022-11-20T08:17:23.070334Z",
     "shell.execute_reply": "2022-11-20T08:17:23.069007Z",
     "shell.execute_reply.started": "2022-11-20T08:17:03.349898Z"
    }
   },
   "outputs": [],
   "source": [
    "def tn(df) : \n",
    "    if df[\"promo_code\"] == 0 : \n",
    "        return 0\n",
    "    else :\n",
    "        return 1\n",
    "\n",
    "    \n",
    "transaction_new[\"promo_code2\"] = transaction_new.apply(tn, axis =1 )"
   ]
  },
  {
   "cell_type": "code",
   "execution_count": null,
   "metadata": {
    "execution": {
     "iopub.execute_input": "2022-11-20T08:17:27.315882Z",
     "iopub.status.busy": "2022-11-20T08:17:27.315465Z",
     "iopub.status.idle": "2022-11-20T08:17:27.348963Z",
     "shell.execute_reply": "2022-11-20T08:17:27.347138Z",
     "shell.execute_reply.started": "2022-11-20T08:17:27.315849Z"
    }
   },
   "outputs": [],
   "source": [
    "transaction_new"
   ]
  },
  {
   "cell_type": "code",
   "execution_count": null,
   "metadata": {
    "execution": {
     "iopub.execute_input": "2022-11-20T08:17:32.303261Z",
     "iopub.status.busy": "2022-11-20T08:17:32.302098Z",
     "iopub.status.idle": "2022-11-20T08:17:32.718655Z",
     "shell.execute_reply": "2022-11-20T08:17:32.717252Z",
     "shell.execute_reply.started": "2022-11-20T08:17:32.303203Z"
    }
   },
   "outputs": [],
   "source": [
    "transaction_new2 = transaction_new.groupby([\"customer_id\",\"created_at\"], as_index = False).agg({\"promo_code2\" : [\"sum\"], \"quantity\" : [\"sum\"]\n",
    "                                                                               \n",
    "})\n",
    "transaction_new2.columns = list(map(''.join,transaction_new2.columns.values))"
   ]
  },
  {
   "cell_type": "code",
   "execution_count": null,
   "metadata": {
    "execution": {
     "iopub.execute_input": "2022-11-20T08:17:36.749134Z",
     "iopub.status.busy": "2022-11-20T08:17:36.748669Z",
     "iopub.status.idle": "2022-11-20T08:17:36.766761Z",
     "shell.execute_reply": "2022-11-20T08:17:36.765485Z",
     "shell.execute_reply.started": "2022-11-20T08:17:36.749087Z"
    }
   },
   "outputs": [],
   "source": [
    "transaction_new2"
   ]
  },
  {
   "cell_type": "code",
   "execution_count": null,
   "metadata": {
    "execution": {
     "iopub.execute_input": "2022-11-20T08:17:53.723045Z",
     "iopub.status.busy": "2022-11-20T08:17:53.721937Z",
     "iopub.status.idle": "2022-11-20T08:17:53.739806Z",
     "shell.execute_reply": "2022-11-20T08:17:53.738492Z",
     "shell.execute_reply.started": "2022-11-20T08:17:53.722992Z"
    }
   },
   "outputs": [],
   "source": [
    "transaction_new2"
   ]
  },
  {
   "cell_type": "code",
   "execution_count": null,
   "metadata": {
    "execution": {
     "iopub.execute_input": "2022-11-20T08:17:58.805413Z",
     "iopub.status.busy": "2022-11-20T08:17:58.804591Z",
     "iopub.status.idle": "2022-11-20T08:17:58.815706Z",
     "shell.execute_reply": "2022-11-20T08:17:58.814483Z",
     "shell.execute_reply.started": "2022-11-20T08:17:58.805360Z"
    }
   },
   "outputs": [],
   "source": [
    "transaction_new2.dtypes"
   ]
  },
  {
   "cell_type": "code",
   "execution_count": null,
   "metadata": {
    "execution": {
     "iopub.execute_input": "2022-11-20T08:18:02.968357Z",
     "iopub.status.busy": "2022-11-20T08:18:02.967394Z",
     "iopub.status.idle": "2022-11-20T08:18:05.344074Z",
     "shell.execute_reply": "2022-11-20T08:18:05.342777Z",
     "shell.execute_reply.started": "2022-11-20T08:18:02.968296Z"
    }
   },
   "outputs": [],
   "source": [
    "transaction_new3 = final_flagging.merge(transaction_new2[['customer_id', 'promo_code2sum']], on=['customer_id',], how='left')"
   ]
  },
  {
   "cell_type": "code",
   "execution_count": null,
   "metadata": {
    "execution": {
     "iopub.execute_input": "2022-11-20T08:18:08.747511Z",
     "iopub.status.busy": "2022-11-20T08:18:08.745179Z",
     "iopub.status.idle": "2022-11-20T08:18:08.773927Z",
     "shell.execute_reply": "2022-11-20T08:18:08.773004Z",
     "shell.execute_reply.started": "2022-11-20T08:18:08.747455Z"
    }
   },
   "outputs": [],
   "source": [
    "transaction_new3"
   ]
  },
  {
   "cell_type": "code",
   "execution_count": null,
   "metadata": {},
   "outputs": [],
   "source": []
  },
  {
   "cell_type": "markdown",
   "metadata": {
    "papermill": {
     "duration": 0.05334,
     "end_time": "2022-11-13T15:58:52.882887",
     "exception": false,
     "start_time": "2022-11-13T15:58:52.829547",
     "status": "completed"
    },
    "tags": []
   },
   "source": [
    "## traffic source (device)\n",
    "\n",
    "ini karena masing2 device pasti punya sessionnya masing-masing. tidak mungkin device yang berbeda memiliki session_id yang sama\n",
    "\n"
   ]
  },
  {
   "cell_type": "code",
   "execution_count": null,
   "metadata": {
    "execution": {
     "iopub.execute_input": "2022-11-20T08:18:15.038623Z",
     "iopub.status.busy": "2022-11-20T08:18:15.033564Z",
     "iopub.status.idle": "2022-11-20T08:18:25.560565Z",
     "shell.execute_reply": "2022-11-20T08:18:25.555953Z",
     "shell.execute_reply.started": "2022-11-20T08:18:15.038484Z"
    }
   },
   "outputs": [],
   "source": [
    "click_traffic = click_new.groupby(['session_id'])[['traffic_source']].first().reset_index()\n",
    "click_traffic"
   ]
  },
  {
   "cell_type": "code",
   "execution_count": null,
   "metadata": {
    "execution": {
     "iopub.execute_input": "2022-11-20T08:18:47.701442Z",
     "iopub.status.busy": "2022-11-20T08:18:47.700933Z",
     "iopub.status.idle": "2022-11-20T08:18:57.848971Z",
     "shell.execute_reply": "2022-11-20T08:18:57.847831Z",
     "shell.execute_reply.started": "2022-11-20T08:18:47.701403Z"
    },
    "papermill": {
     "duration": 0.32008,
     "end_time": "2022-11-13T15:59:02.145913",
     "exception": false,
     "start_time": "2022-11-13T15:59:01.825833",
     "status": "completed"
    },
    "tags": []
   },
   "outputs": [],
   "source": [
    "trx_click = pd.merge(trx2[['created_at','customer_id','session_id']], click_traffic[['session_id','traffic_source']], on='session_id')\n",
    "\n",
    "trx_click['created_at'] = pd.to_datetime(trx_click[\"created_at\"])\n",
    "trx_click['created_at'] = trx_click['created_at'].dt.strftime('%Y-%m')\n",
    "trx_click['created_at'] = pd.to_datetime(trx_click[\"created_at\"])\n",
    "\n",
    "trx_click2 = trx_click.groupby(['customer_id','created_at','traffic_source']).count().reset_index()\n",
    "trx_click2"
   ]
  },
  {
   "cell_type": "code",
   "execution_count": null,
   "metadata": {
    "execution": {
     "iopub.execute_input": "2022-11-20T08:19:02.737616Z",
     "iopub.status.busy": "2022-11-20T08:19:02.737205Z",
     "iopub.status.idle": "2022-11-20T08:19:02.804377Z",
     "shell.execute_reply": "2022-11-20T08:19:02.803099Z",
     "shell.execute_reply.started": "2022-11-20T08:19:02.737582Z"
    },
    "papermill": {
     "duration": 0.111337,
     "end_time": "2022-11-13T15:59:02.310087",
     "exception": false,
     "start_time": "2022-11-13T15:59:02.19875",
     "status": "completed"
    },
    "tags": []
   },
   "outputs": [],
   "source": [
    "# one hot encoding karena datanya merupakan kategori\n",
    "\n",
    "trx_click3 = pd.get_dummies(trx_click2['traffic_source'])\n",
    "trx_click3 = trx_click3.rename(columns = {\n",
    "    'MOBILE' : 'mobile_used',\n",
    "    'WEB' : 'web_used'\n",
    "})\n",
    "trx_click3"
   ]
  },
  {
   "cell_type": "code",
   "execution_count": null,
   "metadata": {
    "execution": {
     "iopub.execute_input": "2022-11-20T08:19:11.126787Z",
     "iopub.status.busy": "2022-11-20T08:19:11.126320Z",
     "iopub.status.idle": "2022-11-20T08:19:11.420252Z",
     "shell.execute_reply": "2022-11-20T08:19:11.419403Z",
     "shell.execute_reply.started": "2022-11-20T08:19:11.126746Z"
    },
    "papermill": {
     "duration": 0.254486,
     "end_time": "2022-11-13T15:59:02.61638",
     "exception": false,
     "start_time": "2022-11-13T15:59:02.361894",
     "status": "completed"
    },
    "tags": []
   },
   "outputs": [],
   "source": [
    "trx_click4 = pd.concat([trx_click2, trx_click3], axis=1)\n",
    "trx_click5 = trx_click4.groupby(['customer_id','created_at']).sum().reset_index()\n",
    "\n",
    "trx_click5"
   ]
  },
  {
   "cell_type": "code",
   "execution_count": null,
   "metadata": {
    "execution": {
     "iopub.execute_input": "2022-11-20T08:19:16.540859Z",
     "iopub.status.busy": "2022-11-20T08:19:16.539611Z",
     "iopub.status.idle": "2022-11-20T08:19:16.844530Z",
     "shell.execute_reply": "2022-11-20T08:19:16.843026Z",
     "shell.execute_reply.started": "2022-11-20T08:19:16.540815Z"
    }
   },
   "outputs": [],
   "source": [
    "# di merge dengan label churn yang dah dibikin, di merge berdasarkan customer_id dan created_at\n",
    "\n",
    "trx_click6 = final_flagging.merge(trx_click5.iloc[:,[0,1,3,4]], on=['customer_id','created_at'], how='left')\n",
    "trx_click6"
   ]
  },
  {
   "cell_type": "code",
   "execution_count": null,
   "metadata": {
    "execution": {
     "iopub.execute_input": "2022-11-20T08:19:20.565055Z",
     "iopub.status.busy": "2022-11-20T08:19:20.564659Z",
     "iopub.status.idle": "2022-11-20T08:19:20.772550Z",
     "shell.execute_reply": "2022-11-20T08:19:20.771256Z",
     "shell.execute_reply.started": "2022-11-20T08:19:20.565023Z"
    },
    "papermill": {
     "duration": 0.218784,
     "end_time": "2022-11-13T15:59:02.887007",
     "exception": false,
     "start_time": "2022-11-13T15:59:02.668223",
     "status": "completed"
    },
    "tags": []
   },
   "outputs": [],
   "source": [
    "# ini untuk menghitung persebaran data churn dari feature web_used\n",
    "\n",
    "asess_1 = pd.crosstab(trx_click6[\"web_used\"], trx_click6[\"flagging\"], margins=True, margins_name=\"Total\")\n",
    "asess_1"
   ]
  },
  {
   "cell_type": "code",
   "execution_count": null,
   "metadata": {
    "execution": {
     "iopub.execute_input": "2022-11-20T08:19:24.757936Z",
     "iopub.status.busy": "2022-11-20T08:19:24.757486Z",
     "iopub.status.idle": "2022-11-20T08:19:24.768968Z",
     "shell.execute_reply": "2022-11-20T08:19:24.767609Z",
     "shell.execute_reply.started": "2022-11-20T08:19:24.757898Z"
    },
    "papermill": {
     "duration": 0.069425,
     "end_time": "2022-11-13T15:59:03.010336",
     "exception": false,
     "start_time": "2022-11-13T15:59:02.940911",
     "status": "completed"
    },
    "tags": []
   },
   "outputs": [],
   "source": [
    "# Let's create function nonevent & event\n",
    "def nonevent(df) : \n",
    "    return (df[0]/319540)\n",
    "def event(df) : \n",
    "    return (df[1]/195758)\n",
    "\n",
    "# Apply function nonevent & event and save it to new columns %nonevent & %event\n",
    "asess_1[\"%nonevent\"] = asess_1.apply(nonevent, axis = 1)\n",
    "asess_1[\"%event\"] = asess_1.apply(event, axis = 1)"
   ]
  },
  {
   "cell_type": "code",
   "execution_count": null,
   "metadata": {
    "execution": {
     "iopub.execute_input": "2022-11-20T08:19:31.840520Z",
     "iopub.status.busy": "2022-11-20T08:19:31.840043Z",
     "iopub.status.idle": "2022-11-20T08:19:31.852472Z",
     "shell.execute_reply": "2022-11-20T08:19:31.851175Z",
     "shell.execute_reply.started": "2022-11-20T08:19:31.840480Z"
    },
    "papermill": {
     "duration": 0.067823,
     "end_time": "2022-11-13T15:59:03.130371",
     "exception": false,
     "start_time": "2022-11-13T15:59:03.062548",
     "status": "completed"
    },
    "tags": []
   },
   "outputs": [],
   "source": [
    "#Let's calculate WoE and save it to new a column WoE\n",
    "asess_1[\"WoE\"] = np.log(asess_1[\"%event\"]/asess_1[\"%nonevent\"])\n",
    "\n",
    "# Let's calculate IV and save it to new a column IV\n",
    "asess_1[\"IV\"] = asess_1[\"WoE\"]*(asess_1[\"%event\"] - asess_1[\"%nonevent\"])\n",
    "\n",
    "#Let's sum IV\n",
    "asess_1[\"IV\"].sum() # Weak Predictor"
   ]
  },
  {
   "cell_type": "markdown",
   "metadata": {},
   "source": [
    "karena IV nya 0.03, maka feature web_used merupakan weak predictor (namun tetap bisa digunakan untuk modelling). silakan lakukan hal yang sama untuk feature mobile_used dan feature lainnya"
   ]
  },
  {
   "cell_type": "markdown",
   "metadata": {
    "papermill": {
     "duration": 0.059155,
     "end_time": "2022-11-13T16:00:55.490354",
     "exception": false,
     "start_time": "2022-11-13T16:00:55.431199",
     "status": "completed"
    },
    "tags": []
   },
   "source": [
    "# Feature Selection\n",
    "feature selection artinya kita **memilih feature** mana yang akan kita gunakan untuk modeling. feature yang dipilih merupakan feature yang memiliki IV > 0.02 (termasuk kategori weak, medium, serta strong predictor)"
   ]
  },
  {
   "cell_type": "code",
   "execution_count": null,
   "metadata": {
    "execution": {
     "iopub.execute_input": "2022-11-20T08:19:38.665417Z",
     "iopub.status.busy": "2022-11-20T08:19:38.664624Z"
    },
    "papermill": {
     "duration": 7.950667,
     "end_time": "2022-11-13T16:01:03.500467",
     "exception": false,
     "start_time": "2022-11-13T16:00:55.5498",
     "status": "completed"
    },
    "tags": []
   },
   "outputs": [],
   "source": [
    "# feature_all = trx_click6.copy()\n",
    "feature_all = pd.merge(trx_click6, transaction_new3[['customer_id', 'promo_code2sum']], on=['customer_id'], how='left')\n",
    "\n",
    "# kalau udah punya banyak feature, pakai codingan di bawah ini untuk merge semua featurenya menjadi 1 dataframe\n",
    "# feature_all = <nama_dataframe1>.merge(<nama_dataframe2>, on=['customer_id','created_at','flagging'])\n",
    "# feature_all = feature_all.merge(<nama_dataframe3>, on=['customer_id','created_at','flagging'])\n"
   ]
  },
  {
   "cell_type": "code",
   "execution_count": null,
   "metadata": {
    "execution": {
     "iopub.status.busy": "2022-11-20T08:11:21.802843Z",
     "iopub.status.idle": "2022-11-20T08:11:21.803315Z",
     "shell.execute_reply": "2022-11-20T08:11:21.803121Z",
     "shell.execute_reply.started": "2022-11-20T08:11:21.803092Z"
    },
    "papermill": {
     "duration": 0.090434,
     "end_time": "2022-11-13T16:01:03.650649",
     "exception": false,
     "start_time": "2022-11-13T16:01:03.560215",
     "status": "completed"
    },
    "tags": []
   },
   "outputs": [],
   "source": [
    "feature_all"
   ]
  },
  {
   "cell_type": "code",
   "execution_count": null,
   "metadata": {
    "execution": {
     "iopub.status.busy": "2022-11-20T08:11:21.804885Z",
     "iopub.status.idle": "2022-11-20T08:11:21.805404Z",
     "shell.execute_reply": "2022-11-20T08:11:21.805157Z",
     "shell.execute_reply.started": "2022-11-20T08:11:21.805133Z"
    }
   },
   "outputs": [],
   "source": [
    "feature_all[\"web_used\"]=feature_all[\"web_used\"].fillna(0)\n",
    "feature_all[\"mobile_used\"]=feature_all[\"mobile_used\"].fillna(0)"
   ]
  },
  {
   "cell_type": "code",
   "execution_count": null,
   "metadata": {
    "execution": {
     "iopub.status.busy": "2022-11-20T08:11:21.806725Z",
     "iopub.status.idle": "2022-11-20T08:11:21.807221Z",
     "shell.execute_reply": "2022-11-20T08:11:21.807004Z",
     "shell.execute_reply.started": "2022-11-20T08:11:21.806914Z"
    },
    "papermill": {
     "duration": 0.0672,
     "end_time": "2022-11-13T16:01:03.778276",
     "exception": false,
     "start_time": "2022-11-13T16:01:03.711076",
     "status": "completed"
    },
    "tags": []
   },
   "outputs": [],
   "source": [
    "# code ini untuk mengeksport feature yang sudah kita pilih menjadi file csv agar memudahkan ketika run filenya\n",
    "\n",
    "# feature_all.to_csv('final_feature.csv',index=False)"
   ]
  },
  {
   "cell_type": "code",
   "execution_count": null,
   "metadata": {
    "execution": {
     "iopub.status.busy": "2022-11-20T08:11:21.809335Z",
     "iopub.status.idle": "2022-11-20T08:11:21.810000Z",
     "shell.execute_reply": "2022-11-20T08:11:21.809817Z",
     "shell.execute_reply.started": "2022-11-20T08:11:21.809797Z"
    },
    "papermill": {
     "duration": 0.090804,
     "end_time": "2022-11-13T16:01:03.929358",
     "exception": false,
     "start_time": "2022-11-13T16:01:03.838554",
     "status": "completed"
    },
    "tags": []
   },
   "outputs": [],
   "source": [
    "X = feature_all.iloc[:,4:]\n",
    "y = feature_all[[\"flagging\"]]"
   ]
  },
  {
   "cell_type": "code",
   "execution_count": null,
   "metadata": {
    "execution": {
     "iopub.status.busy": "2022-11-20T08:11:21.811424Z",
     "iopub.status.idle": "2022-11-20T08:11:21.812129Z",
     "shell.execute_reply": "2022-11-20T08:11:21.811925Z",
     "shell.execute_reply.started": "2022-11-20T08:11:21.811905Z"
    }
   },
   "outputs": [],
   "source": [
    "# ini adalah feature nya yang ingin kita cek IV nya\n",
    "X"
   ]
  },
  {
   "cell_type": "code",
   "execution_count": null,
   "metadata": {
    "execution": {
     "iopub.status.busy": "2022-11-20T08:11:21.813574Z",
     "iopub.status.idle": "2022-11-20T08:11:21.814234Z",
     "shell.execute_reply": "2022-11-20T08:11:21.814022Z",
     "shell.execute_reply.started": "2022-11-20T08:11:21.814001Z"
    }
   },
   "outputs": [],
   "source": [
    "# ini adalah labelnya\n",
    "y"
   ]
  },
  {
   "cell_type": "code",
   "execution_count": null,
   "metadata": {
    "execution": {
     "iopub.status.busy": "2022-11-20T08:11:21.815526Z",
     "iopub.status.idle": "2022-11-20T08:11:21.816252Z",
     "shell.execute_reply": "2022-11-20T08:11:21.816055Z",
     "shell.execute_reply.started": "2022-11-20T08:11:21.816034Z"
    },
    "papermill": {
     "duration": 0.193891,
     "end_time": "2022-11-13T16:01:04.184345",
     "exception": false,
     "start_time": "2022-11-13T16:01:03.990454",
     "status": "completed"
    },
    "tags": []
   },
   "outputs": [],
   "source": [
    "from sklearn.model_selection import train_test_split\n",
    "\n",
    "X_train, X_test, y_train, y_test = train_test_split(X, y, random_state=100, test_size=0.3)\n",
    "print(\"Jumlah data training: \", X_train.shape)\n",
    "print(\"Jumlah data testing: \", X_test.shape)"
   ]
  },
  {
   "cell_type": "code",
   "execution_count": null,
   "metadata": {
    "execution": {
     "iopub.status.busy": "2022-11-20T08:11:21.824386Z",
     "iopub.status.idle": "2022-11-20T08:11:21.824993Z",
     "shell.execute_reply": "2022-11-20T08:11:21.824774Z",
     "shell.execute_reply.started": "2022-11-20T08:11:21.824750Z"
    },
    "papermill": {
     "duration": 0.077735,
     "end_time": "2022-11-13T16:01:04.321818",
     "exception": false,
     "start_time": "2022-11-13T16:01:04.244083",
     "status": "completed"
    },
    "tags": []
   },
   "outputs": [],
   "source": [
    "# ini function untuk menghitung semua IV dari feature yang sudah kita buat tadi (dari proses feature engineering)\n",
    "\n",
    "def calc_iv(df, feature, target, pr=False):\n",
    "    \n",
    "    lst = []\n",
    "\n",
    "    df[feature] = df[feature].fillna(\"NULL\")\n",
    "\n",
    "    for i in range(df[feature].nunique()):\n",
    "        val = list(df[feature].unique())[i]\n",
    "        lst.append([feature,                                                        # Variable\n",
    "                    val,                                                            # Value\n",
    "                    df[df[feature] == val].count()[feature],                        # All\n",
    "                    df[(df[feature] == val) & (df[target] == 0)].count()[feature],  # Good (think: Fraud == 0)\n",
    "                    df[(df[feature] == val) & (df[target] == 1)].count()[feature]]) # Bad (think: Fraud == 1)\n",
    "\n",
    "    data = pd.DataFrame(lst, columns=['Variable', 'Value', 'All', 'Good', 'Bad'])\n",
    "\n",
    "    data['Share'] = data['All'] / data['All'].sum()\n",
    "    data['Bad Rate'] = data['Bad'] / data['All']\n",
    "    data['Distribution Good'] = (data['All'] - data['Bad']) / (data['All'].sum() - data['Bad'].sum())\n",
    "    data['Distribution Bad'] = data['Bad'] / data['Bad'].sum()\n",
    "    data['WoE'] = np.log(data['Distribution Good'] / data['Distribution Bad'])\n",
    "\n",
    "    data = data.replace({'WoE': {np.inf: 0, -np.inf: 0}})\n",
    "\n",
    "    data['IV'] = data['WoE'] * (data['Distribution Good'] - data['Distribution Bad'])\n",
    "\n",
    "    data = data.sort_values(by=['Variable', 'Value'], ascending=[True, True])\n",
    "    data.index = range(len(data.index))\n",
    "\n",
    "    if pr:\n",
    "        print(data)\n",
    "        print('IV = ', data['IV'].sum())\n",
    "\n",
    "    iv = data['IV'].sum()\n",
    "\n",
    "    return iv, data"
   ]
  },
  {
   "cell_type": "code",
   "execution_count": null,
   "metadata": {
    "execution": {
     "iopub.status.busy": "2022-11-20T08:11:21.826854Z",
     "iopub.status.idle": "2022-11-20T08:11:21.828016Z",
     "shell.execute_reply": "2022-11-20T08:11:21.827804Z",
     "shell.execute_reply.started": "2022-11-20T08:11:21.827772Z"
    },
    "papermill": {
     "duration": 2.192967,
     "end_time": "2022-11-13T16:01:06.573737",
     "exception": false,
     "start_time": "2022-11-13T16:01:04.38077",
     "status": "completed"
    },
    "tags": []
   },
   "outputs": [],
   "source": [
    "iv_df = X_train.copy()\n",
    "iv_df[\"target\"] = y_train\n",
    "\n",
    "features = iv_df.columns[:-1].tolist()\n",
    "\n",
    "iv_list = []\n",
    "for feature in features:\n",
    "    iv, data = calc_iv(iv_df, feature, 'target')\n",
    "    iv_list.append(round(iv,6))\n",
    "\n",
    "woe_df = pd.DataFrame(np.column_stack([features, iv_list]), \n",
    "                      columns=['Feature', 'iv'])\n",
    "woe_df"
   ]
  },
  {
   "cell_type": "markdown",
   "metadata": {},
   "source": [
    "diatas merupakan hasil IV dari feature mobile_used dan web_used. dapat dilihat bahwa hasil IV keduanya > 0.02 dan termasuk weak predictor. maka feature ini dapat kita gunakan untuk modeling"
   ]
  },
  {
   "cell_type": "code",
   "execution_count": null,
   "metadata": {
    "execution": {
     "iopub.status.busy": "2022-11-20T08:11:21.829378Z",
     "iopub.status.idle": "2022-11-20T08:11:21.829775Z",
     "shell.execute_reply": "2022-11-20T08:11:21.829597Z",
     "shell.execute_reply.started": "2022-11-20T08:11:21.829579Z"
    }
   },
   "outputs": [],
   "source": [
    "from sklearn.metrics import accuracy_score,confusion_matrix,classification_report,f1_score\n",
    "# Logistic Regression\n",
    "from sklearn.linear_model import LogisticRegression\n",
    "logreg = LogisticRegression(solver = \"newton-cg\", max_iter = 1000, C = 3.2)\n",
    "logreg.fit(X_train, y_train)\n",
    "y_pred_log = logreg.predict(X_test)\n",
    "\n",
    "log_train = round(logreg.score(X_train, y_train) * 100, 2)\n",
    "log_accuracy = round(accuracy_score(y_pred_log, y_test) * 100, 2)\n",
    "log_f1 = round(f1_score(y_pred_log, y_test) * 100, 2)\n",
    "\n",
    "print(\"Training Accuracy    :\",log_train,\"%\")\n",
    "print(\"Model Accuracy Score :\",log_accuracy,\"%\")\n",
    "print(\"\\033[1m--------------------------------------------------------\\033[0m\")\n",
    "print(\"Classification_Report: \\n\",classification_report(y_test,y_pred_log))"
   ]
  },
  {
   "cell_type": "code",
   "execution_count": null,
   "metadata": {
    "execution": {
     "iopub.status.busy": "2022-11-20T08:11:21.831137Z",
     "iopub.status.idle": "2022-11-20T08:11:21.831579Z",
     "shell.execute_reply": "2022-11-20T08:11:21.831392Z",
     "shell.execute_reply.started": "2022-11-20T08:11:21.831370Z"
    }
   },
   "outputs": [],
   "source": [
    "from sklearn.metrics import plot_confusion_matrix\n",
    "\n",
    "plot_confusion_matrix(logreg, X_test, y_test)\n",
    "plt.show()"
   ]
  },
  {
   "cell_type": "code",
   "execution_count": null,
   "metadata": {},
   "outputs": [],
   "source": []
  }
 ],
 "metadata": {
  "kernelspec": {
   "display_name": "Python 3 (ipykernel)",
   "language": "python",
   "name": "python3"
  },
  "language_info": {
   "codemirror_mode": {
    "name": "ipython",
    "version": 3
   },
   "file_extension": ".py",
   "mimetype": "text/x-python",
   "name": "python",
   "nbconvert_exporter": "python",
   "pygments_lexer": "ipython3",
   "version": "3.10.7"
  },
  "latex_envs": {
   "LaTeX_envs_menu_present": true,
   "autoclose": false,
   "autocomplete": true,
   "bibliofile": "biblio.bib",
   "cite_by": "apalike",
   "current_citInitial": 1,
   "eqLabelWithNumbers": true,
   "eqNumInitial": 1,
   "hotkeys": {
    "equation": "Ctrl-E",
    "itemize": "Ctrl-I"
   },
   "labels_anchors": false,
   "latex_user_defs": false,
   "report_style_numbering": false,
   "user_envs_cfg": false
  },
  "toc": {
   "base_numbering": 1,
   "nav_menu": {},
   "number_sections": true,
   "sideBar": true,
   "skip_h1_title": false,
   "title_cell": "Table of Contents",
   "title_sidebar": "Contents",
   "toc_cell": false,
   "toc_position": {},
   "toc_section_display": true,
   "toc_window_display": false
  }
 },
 "nbformat": 4,
 "nbformat_minor": 4
}
